{
 "cells": [
  {
   "cell_type": "code",
   "execution_count": 1,
   "metadata": {},
   "outputs": [
    {
     "name": "stdout",
     "output_type": "stream",
     "text": [
      "torch.Size([100, 1, 161, 101]) 100\n",
      "torch.Size([100, 1, 161, 101]) 100\n",
      "torch.Size([100, 1, 161, 101]) 100\n",
      "torch.Size([100, 1, 161, 101]) 100\n",
      "torch.Size([100, 1, 161, 101]) 100\n",
      "torch.Size([100, 1, 161, 101]) 100\n",
      "torch.Size([100, 1, 161, 101]) 100\n",
      "torch.Size([100, 1, 161, 101]) 100\n",
      "torch.Size([100, 1, 161, 101]) 100\n",
      "torch.Size([100, 1, 161, 101]) 100\n",
      "torch.Size([100, 1, 161, 101]) 100\n",
      "torch.Size([100, 1, 161, 101]) 100\n",
      "torch.Size([100, 1, 161, 101]) 100\n",
      "torch.Size([100, 1, 161, 101]) 100\n",
      "torch.Size([100, 1, 161, 101]) 100\n",
      "torch.Size([100, 1, 161, 101]) 100\n",
      "torch.Size([100, 1, 161, 101]) 100\n",
      "torch.Size([100, 1, 161, 101]) 100\n",
      "torch.Size([100, 1, 161, 101]) 100\n",
      "torch.Size([100, 1, 161, 101]) 100\n",
      "torch.Size([100, 1, 161, 101]) 100\n",
      "torch.Size([100, 1, 161, 101]) 100\n",
      "torch.Size([100, 1, 161, 101]) 100\n",
      "torch.Size([100, 1, 161, 101]) 100\n",
      "torch.Size([100, 1, 161, 101]) 100\n",
      "torch.Size([52, 1, 161, 101]) 52\n"
     ]
    }
   ],
   "source": [
    "from gcommand_loader import GCommandLoader\n",
    "import torch\n",
    "\n",
    "dataset = GCommandLoader('./gcommands/test')\n",
    "\n",
    "test_loader = torch.utils.data.DataLoader(\n",
    "        dataset, batch_size=100, shuffle=None,\n",
    "        num_workers=20, pin_memory=True, sampler=None)\n",
    "\n",
    "for k, (input,label) in enumerate(test_loader):\n",
    "    print(input.size(), len(label))"
   ]
  },
  {
   "cell_type": "code",
   "execution_count": 2,
   "metadata": {},
   "outputs": [
    {
     "name": "stdout",
     "output_type": "stream",
     "text": [
      "<gcommand_loader.GCommandLoader object at 0x7f35363a10f0>\n"
     ]
    }
   ],
   "source": [
    "print(dataset)"
   ]
  },
  {
   "cell_type": "code",
   "execution_count": null,
   "metadata": {},
   "outputs": [],
   "source": []
  }
 ],
 "metadata": {
  "kernelspec": {
   "display_name": "Python 3",
   "language": "python",
   "name": "python3"
  },
  "language_info": {
   "codemirror_mode": {
    "name": "ipython",
    "version": 3
   },
   "file_extension": ".py",
   "mimetype": "text/x-python",
   "name": "python",
   "nbconvert_exporter": "python",
   "pygments_lexer": "ipython3",
   "version": "3.7.1"
  }
 },
 "nbformat": 4,
 "nbformat_minor": 2
}
